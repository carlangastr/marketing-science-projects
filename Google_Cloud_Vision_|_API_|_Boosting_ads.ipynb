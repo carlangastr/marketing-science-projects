{
  "nbformat": 4,
  "nbformat_minor": 0,
  "metadata": {
    "colab": {
      "name": "Google Cloud Vision | API | Boosting ads.ipynb",
      "provenance": [],
      "collapsed_sections": [],
      "include_colab_link": true
    },
    "kernelspec": {
      "display_name": "Python 3",
      "name": "python3"
    }
  },
  "cells": [
    {
      "cell_type": "markdown",
      "metadata": {
        "id": "view-in-github",
        "colab_type": "text"
      },
      "source": [
        "<a href=\"https://colab.research.google.com/github/carlangastr/marketing-science-projects/blob/main/Google_Cloud_Vision_%7C_API_%7C_Boosting_ads.ipynb\" target=\"_parent\"><img src=\"https://colab.research.google.com/assets/colab-badge.svg\" alt=\"Open In Colab\"/></a>"
      ]
    },
    {
      "cell_type": "markdown",
      "metadata": {
        "id": "7lbCqGVZ9ilI"
      },
      "source": [
        "**Introduction to Google Cloud Vision:**\n",
        "----------\n",
        "In the next post, I will show a usage approach to the Google Cloud vision API.\n",
        "\n",
        "In the following example we will be using tables which contain supermetrics information and are stored in our SQL database.\n",
        "\n",
        "Within the database we will have the unique URLs of each ad and we will use these URLs to analyze the context of the image stored in each one of them."
      ]
    },
    {
      "cell_type": "code",
      "metadata": {
        "id": "vEe28naZECVk"
      },
      "source": [
        "!pip install webcolors google-cloud-vision"
      ],
      "execution_count": null,
      "outputs": []
    },
    {
      "cell_type": "markdown",
      "metadata": {
        "id": "Z_DsoSLT9J2H"
      },
      "source": [
        "After installing the necessary additional libraries or packages, we need to import them."
      ]
    },
    {
      "cell_type": "code",
      "metadata": {
        "id": "trJcKmTavOvz"
      },
      "source": [
        "import os, io\n",
        "from google.cloud import vision\n",
        "import pandas as pd\n",
        "from pandas import DataFrame\n",
        "\n",
        "import webcolors\n",
        "\n",
        "from PIL import Image as pilmage\n",
        "import requests\n",
        "from io import BytesIO\n",
        "\n",
        "import json\n",
        "\n",
        "import re\n",
        "import ast"
      ],
      "execution_count": null,
      "outputs": []
    },
    {
      "cell_type": "markdown",
      "metadata": {
        "id": "6yfa8-E49JNJ"
      },
      "source": [
        "**Functions:**\n",
        "----------------------\n",
        "Cloud Vision will return information from the RGB color guide of our images when we request the color, therefore, we generate a function to classify the colors according to their closest primary color and obtain the name of the color and not its RGB code."
      ]
    },
    {
      "cell_type": "code",
      "metadata": {
        "id": "5RAVwEDgEKaU"
      },
      "source": [
        "#funtion to get the color\n",
        "\n",
        "def closest_colour(requested_colour):\n",
        "    min_colours = {}\n",
        "    for key, name in webcolors.CSS3_HEX_TO_NAMES.items():\n",
        "        r_c, g_c, b_c = webcolors.hex_to_rgb(key)\n",
        "        rd = (r_c - requested_colour[0]) ** 2\n",
        "        gd = (g_c - requested_colour[1]) ** 2\n",
        "        bd = (b_c - requested_colour[2]) ** 2\n",
        "        min_colours[(rd + gd + bd)] = name\n",
        "    return min_colours[min(min_colours.keys())]\n",
        "\n",
        "def get_colour_name(requested_colour):\n",
        "    try:\n",
        "        closest_name = actual_name = webcolors.rgb_to_name(requested_colour)\n",
        "    except ValueError:\n",
        "        closest_name = closest_colour(requested_colour)\n",
        "        actual_name = None\n",
        "    return actual_name, closest_name\n",
        "\n",
        "#funtions to get the color"
      ],
      "execution_count": null,
      "outputs": []
    },
    {
      "cell_type": "code",
      "metadata": {
        "id": "AJFEGVhtEkQr"
      },
      "source": [
        "#we are in a Google machine, we load our credentials in JSON format in our environment.\n",
        "\n",
        "os.environ['GOOGLE_APPLICATION_CREDENTIALS'] = r'credentials.json'\n",
        "client = vision.ImageAnnotatorClient()\n",
        "image = vision.Image()"
      ],
      "execution_count": null,
      "outputs": []
    },
    {
      "cell_type": "code",
      "metadata": {
        "id": "hE8qBgD9EkO1"
      },
      "source": [
        "#We create an empty dataframe and generate a query to our databases in bigqguery.\n",
        "\n",
        "colors_dataframe = pd.DataFrame({'url': [], 'pixel_fraction':[], 'score':[], 'reed':[], 'gree':[], 'blue':[]})\n",
        "\n",
        "query_url = \"\"\"\n",
        "\n",
        "SELECT \n",
        "source,   \n",
        "ad_id,   \n",
        "image_asset_url as url\n",
        "FROM `main_url_dh`\n",
        "where source = 'Facebook ads' and image_asset_url != '0'\n",
        "group by 1,2,3  \n",
        "\n",
        "UNION ALL \n",
        "\n",
        "SELECT \n",
        "source,   \n",
        "ad_id,   \n",
        "promoted_tweet_card_image_url as url\n",
        "FROM `main_url_dh`\n",
        "where source = 'Twitter ads' and promoted_tweet_card_image_url != '0'\n",
        "group by 1,2,3  \n",
        "\n",
        "\"\"\"\n",
        "dataframe = pd.read_gbq(query_url)"
      ],
      "execution_count": null,
      "outputs": []
    },
    {
      "cell_type": "code",
      "metadata": {
        "id": "M8_3h3DqOo-d"
      },
      "source": [
        "dataframe_dupli = dataframe.drop_duplicates(subset = ['url']).copy()\n",
        "dataframe_dupli.reset_index(inplace = True)\n",
        "\n",
        "#We certify that there are no duplicate records in our dataframe"
      ],
      "execution_count": null,
      "outputs": []
    },
    {
      "cell_type": "code",
      "metadata": {
        "colab": {
          "base_uri": "https://localhost:8080/"
        },
        "id": "wYtjCZe5dnUq",
        "outputId": "2d6dfd46-a46d-4637-e9fe-67b61888d216"
      },
      "source": [
        "dataframe_dupli.url.shape"
      ],
      "execution_count": null,
      "outputs": [
        {
          "output_type": "execute_result",
          "data": {
            "text/plain": [
              "(1108,)"
            ]
          },
          "metadata": {
            "tags": []
          },
          "execution_count": 23
        }
      ]
    },
    {
      "cell_type": "code",
      "metadata": {
        "id": "XD1dh1n0K21r"
      },
      "source": [
        "#Our jsons, which are a response from Cloud Vision, contain a particular format, which we need to adjust before we can process them in our dataframe, \n",
        "#for this we create a function according to the type of information that we request from Cloud Vision.\n",
        "\n",
        "def construction_of_json(string, model):\n",
        "  \n",
        "  if model == 'colors':\n",
        "    b = string.replace('[', '').replace(']', '}').replace('color {\\n', 'color:{').replace('\\n}', '},')\\\n",
        "    .replace('\\nscore', 'score').replace('\\npixel_fraction', ',pixel_fraction')\\\n",
        "    .replace(' ', '-').replace('\\n', '').replace(',-color', '}, color').replace('color:', '{\"color\":')\\\n",
        "    .replace('red', '\"red\"').replace('green', '\"green\"').replace('blue', '\"blue\"').replace('score', '\"score\"').replace('pixel_fraction', '\"pixel_fraction\"')\\\n",
        "    .replace('-', '').replace(',', ';').replace(';\"',',\"').replace('0\"', '0,\"').replace(';', ',').replace('},', '}').replace('} {', '},{').replace('}\"', '},\"')\n",
        "  \n",
        "  elif model == 'topics':\n",
        "    b = string.replace('[', '').replace(']', '}').replace(',','},').replace('/m/', '').replace(' ', '')\\\n",
        "    .replace('mid', '\"mid\"').replace('description', '\"description\"').replace('topicality', '\"topicality\"').replace('score', '\"score\"').replace('\\n', ',').replace(',}', '}')\\\n",
        "    .replace('\"mid\"', '{\"mid\"')\n",
        "\n",
        "  return ast.literal_eval(b)"
      ],
      "execution_count": null,
      "outputs": []
    },
    {
      "cell_type": "code",
      "metadata": {
        "id": "Ji_Ynr4IOg8Y"
      },
      "source": [
        "#In the same way, we use our previous functions applied to our dataframes, to obtain the color, topic and url data.\n",
        "\n",
        "def color_measurement(dataframe):\n",
        "\n",
        "  dataframe['tuple_colors'] = dataframe[['red', 'green', 'blue']].apply(tuple, axis = 1)\n",
        "  dataframe['colors'] = dataframe.tuple_colors.apply(lambda x: get_colour_name(x))\n",
        "  dataframe[['type', 'color']] = pd.DataFrame(dataframe['colors'].tolist(), index = dataframe.index)\n",
        "  \n",
        "  print(dataframe.columns)\n",
        "  dataframe.sort_values(['url', 'pixel_fraction'], ascending= [True, False], inplace = True)\n",
        "  dataframe['section'] = dataframe.groupby('url').cumcount()\n",
        "  dataframe.reset_index(inplace = True, drop = True)\n",
        "\n",
        "  return dataframe[(dataframe.section>=0) & (dataframe.section<=2)].reset_index(drop = True)\n",
        "\n",
        "def topic_measurement(dataframe):\n",
        "  dataframe.sort_values(['url', 'topicality'], ascending= [True, False], inplace = True)\n",
        "  dataframe['section'] = dataframe.groupby('url').cumcount()\n",
        "\n",
        "  return dataframe[(dataframe.section>=0) & (dataframe.section<=2)].reset_index(drop = True)\n",
        "\n",
        "def text_measurement(dataframe):\n",
        "  dataframe['description'] = dataframe['description'].str.lower()\n",
        "  dataframe['description'] = dataframe['description'].map(lambda x: re.sub(r'\\n', ' ', x))\n",
        "\n",
        "  return dataframe"
      ],
      "execution_count": null,
      "outputs": []
    },
    {
      "cell_type": "code",
      "metadata": {
        "id": "QDlxdL_wUIlP"
      },
      "source": [
        "#Some URLs contain images in compressed formats that are not compatible with cloud vision. We create a function for those images.\n",
        "\n",
        "def transform_image_is_not_image(response, url, models):\n",
        "\n",
        "  img = pilmage.open(BytesIO(response.content))\n",
        "\n",
        "  path = '/content/temporal_file.jpg'\n",
        "\n",
        "  if 'RGBA' in str(img.mode):\n",
        "    print('     ', url, 'type' + str(img.mode))\n",
        "    img = img.convert('RGB')\n",
        "\n",
        "  img.save(path)\n",
        "\n",
        "  with io.open(path, 'rb') as image_file:\n",
        "    content = image_file.read()\n",
        "\n",
        "  image = vision.Image(content=content)\n",
        "\n",
        "  if models == 'colors':\n",
        "    response = client.image_properties(image = image).image_properties_annotation\n",
        "    dominant_colors = response.dominant_colors\n",
        "\n",
        "    dictionary = construction_of_json(string = str(dominant_colors.colors), model = models)\n",
        "\n",
        "    dataframe_colors = pd.concat([DataFrame(list(DataFrame(dictionary)['color'])), DataFrame(dictionary)[['score', 'pixel_fraction']]], axis = 1)\n",
        "\n",
        "  if models == 'topics':\n",
        "\n",
        "    res_lebes = client.label_detection(image=image)\n",
        "    labels = res_lebes.label_annotations\n",
        "    \n",
        "    dictionary = construction_of_json(string = str(labels), model = models)\n",
        "\n",
        "    dataframe_colors = DataFrame.from_dict(dictionary)\n",
        "\n",
        "  if models == 'texts':\n",
        "    response = client.text_detection(image = image)\n",
        "    texts = response.text_annotations\n",
        "\n",
        "    if len(list(texts)) == 0:\n",
        "      dataframe_colors = DataFrame({'locale': ['no_text'], 'description':['no_text']})\n",
        "    else:\n",
        "      dataframe_colors = DataFrame({'description': [texts[0].description], 'locale': [texts[0].locale]})\n",
        "\n",
        "  dataframe_colors['url'] = url\n",
        "\n",
        "  os.remove(path)\n",
        "\n",
        "  return dataframe_colors.reset_index(drop = True)"
      ],
      "execution_count": null,
      "outputs": []
    },
    {
      "cell_type": "markdown",
      "metadata": {
        "id": "2KrgLCEtBTHI"
      },
      "source": [
        "Then we create our three main functions, which will consume all of our previous functions. They will perform the extraction of text, color and topics from our images, receiving the dataframe and URL."
      ]
    },
    {
      "cell_type": "code",
      "metadata": {
        "id": "-U4HRhYv_QeU"
      },
      "source": [
        "def image_extraction_texts_function(data, image):\n",
        "\n",
        "  empty = DataFrame()\n",
        "\n",
        "  for url in list(data):\n",
        "\n",
        "    image.source.image_uri = url\n",
        "    response = client.text_detection(image = image)\n",
        "    texts = response.text_annotations\n",
        "\n",
        "    if len(list(texts)) == 0:\n",
        "      response = requests.get(url)\n",
        "      print('El URL: ', url, 'tiene una respuesta: ', response)\n",
        "\n",
        "      if '404' not in str(response):\n",
        "        if '.vmap' not in str(url):\n",
        "          empty = empty.append(transform_image_is_not_image(response, url, 'texts'))\n",
        "        else:\n",
        "          empty = empty.append(DataFrame({'url': [url], 'locale': ['error'], 'description':['error']}))\n",
        "\n",
        "      else:\n",
        "\n",
        "        empty = empty.append(DataFrame({'url': [url], 'locale': ['error'], 'description':['error']}))\n",
        "\n",
        "    elif '.jpg' not in str(url):\n",
        "      response = requests.get(url)\n",
        "      print('El URL: ', url, 'tiene una respuesta: ', response)\n",
        "\n",
        "      empty = empty.append(transform_image_is_not_image(response, url, 'texts'))\n",
        "\n",
        "    else:\n",
        "\n",
        "      dataframe_colors = DataFrame({'description': [texts[0].description], 'locale': [texts[0].locale]})\n",
        "      dataframe_colors['url'] = url\n",
        "\n",
        "      empty = empty.append(dataframe_colors)\n",
        "\n",
        "  frame = text_measurement(empty)\n",
        "\n",
        "  return empty, frame"
      ],
      "execution_count": null,
      "outputs": []
    },
    {
      "cell_type": "code",
      "metadata": {
        "id": "mVElMixH4hfd"
      },
      "source": [
        "def image_extraction_topics_function(data, image):\n",
        "\n",
        "  empty = DataFrame()\n",
        "\n",
        "  for url in list(data):\n",
        "\n",
        "    image.source.image_uri = url\n",
        "    res_lebes = client.label_detection(image=image)\n",
        "    labels = res_lebes.label_annotations\n",
        "\n",
        "    if len(list(labels)) == 0:\n",
        "      response = requests.get(url)\n",
        "      print('El URL: ', url, 'tiene una respuesta: ', response)\n",
        "\n",
        "      if '404' not in str(response):\n",
        "        if '.vmap' not in str(url):\n",
        "          empty = empty.append(transform_image_is_not_image(response, url, 'topics'))\n",
        "        else:\n",
        "          empty = empty.append(DataFrame({'url': [url], 'mid': [url], 'description':['video'], 'topicality':[0.0], 'score':[0]}))\n",
        "\n",
        "      else:\n",
        "\n",
        "        empty = empty.append(DataFrame({'url': [url], 'mid': [url], 'description':['error'], 'topicality':[0.0], 'score':[0]}))\n",
        "\n",
        "    elif '.jpg' not in str(url):\n",
        "      response = requests.get(url)\n",
        "      print('El URL: ', url, 'tiene una respuesta: ', response)\n",
        "\n",
        "      empty = empty.append(transform_image_is_not_image(response, url, 'topics'))\n",
        "\n",
        "    else:\n",
        "\n",
        "      dictionary = construction_of_json(str(labels), 'topics')\n",
        "  \n",
        "      dataframe_colors = DataFrame.from_dict(dictionary)\n",
        "\n",
        "      dataframe_colors['url'] = url\n",
        "\n",
        "      empty = empty.append(dataframe_colors)\n",
        "\n",
        "  frame = topic_measurement(empty)\n",
        "\n",
        "  return empty, frame"
      ],
      "execution_count": null,
      "outputs": []
    },
    {
      "cell_type": "code",
      "metadata": {
        "id": "7GynLdXsK2hf"
      },
      "source": [
        "def image_extraction_colors_function(data, image):\n",
        "\n",
        "  empty = DataFrame()\n",
        "\n",
        "  for url in list(data):\n",
        "\n",
        "    image.source.image_uri = url\n",
        "    response = client.image_properties(image = image).image_properties_annotation\n",
        "    dominant_colors = response.dominant_colors\n",
        "\n",
        "    if len(list(dominant_colors.colors)) == 0:\n",
        "      response = requests.get(url)\n",
        "      print('El URL: ', url, 'tiene una respuesta: ', response)\n",
        "\n",
        "      if '404' not in str(response):\n",
        "        if '.vmap' not in str(url):\n",
        "          empty = empty.append(transform_image_is_not_image(response, url, 'colors'))\n",
        "        else:\n",
        "          pass\n",
        "\n",
        "      else:\n",
        "\n",
        "        empty = empty.append(DataFrame({'url': [url], 'pixel_fraction':[132], 'score':[132], 'red':[132], 'green':[132], 'blue':[132]}))\n",
        "\n",
        "    elif '.jpg' not in str(url):\n",
        "      response = requests.get(url)\n",
        "      print('El URL: ', url, 'tiene una respuesta: ', response)\n",
        "\n",
        "      empty = empty.append(transform_image_is_not_image(response, url, 'colors'))\n",
        "\n",
        "    else:\n",
        "\n",
        "      dictionary = construction_of_json(str(dominant_colors.colors), 'colors')\n",
        "  \n",
        "      dataframe_colors = pd.concat([DataFrame(list(DataFrame(dictionary)['color'])), DataFrame(dictionary)[['score', 'pixel_fraction']]], axis = 1)\n",
        "\n",
        "      dataframe_colors['url'] = url\n",
        "\n",
        "      empty = empty.append(dataframe_colors)\n",
        "  \n",
        "  frame = color_measurement(empty)\n",
        "\n",
        "  return empty, frame"
      ],
      "execution_count": null,
      "outputs": []
    },
    {
      "cell_type": "markdown",
      "metadata": {
        "id": "3Ub0q1I9Bhky"
      },
      "source": [
        "Later we will have to join all the dataframes that we have created, having as primary key our \"URL\" which will be the only and common element among all the dataframes that we have generated."
      ]
    },
    {
      "cell_type": "code",
      "metadata": {
        "id": "_Y3Kzsg5IPF6"
      },
      "source": [
        "def merge_frames(first_frame, dataframes, model):\n",
        "\n",
        "  if model == 'colors':\n",
        "    middle_frame = pd.merge(\n",
        "      pd.merge(\n",
        "        pd.merge(first_frame,\n",
        "          dataframes[dataframes.section == 0][['url','color', 'tuple_colors', 'pixel_fraction']].rename(columns = {'color': 'main_color', 'tuple_colors': 'main_color_id',\n",
        "                                                                                                                          'pixel_fraction': 'main_pixel_fraction'}),\n",
        "          how = 'left', on = 'url'),\n",
        "\n",
        "        dataframes[dataframes.section == 1][['url','color', 'tuple_colors', 'pixel_fraction']].rename(columns = {'color': 'second_color', 'tuple_colors': 'second_color_id',\n",
        "                                                                                                                          'pixel_fraction': 'second_pixel_fraction'}),\n",
        "        how = 'left', on = 'url'), \n",
        "\n",
        "        dataframes[dataframes.section == 2][['url','color', 'tuple_colors', 'pixel_fraction']].rename(columns = {'color': 'third_color', 'tuple_colors': 'third_color_id',\n",
        "                                                                                                                        'pixel_fraction': 'third_pixel_fraction'}),\n",
        "        how = 'left', on = 'url')\n",
        "\n",
        "    middle_frame['total_pixel_fraction'] = middle_frame.main_pixel_fraction + middle_frame.second_pixel_fraction + middle_frame.third_pixel_fraction\n",
        "\n",
        "    return middle_frame\n",
        "  \n",
        "  elif model == 'topics':\n",
        "    last_frame = pd.merge(\n",
        "                          pd.merge(\n",
        "                            pd.merge(\n",
        "                              first_frame, \n",
        "                              dataframes[(dataframes.section == 0)][['url', 'description', 'topicality']].rename(columns = {'description': 'main_topic', 'topicality': 'main_topicality'}),\n",
        "                              on = 'url', how = 'left'\n",
        "                                      ),\n",
        "                              dataframes[(dataframes.section == 1)][['url', 'description', 'topicality']].rename(columns = {'description': 'second_topic', 'topicality': 'second_topicality'}),\n",
        "                              on = 'url', how = 'left'\n",
        "                                  ),\n",
        "                              dataframes[(dataframes.section == 2)][['url', 'description', 'topicality']].rename(columns = {'description': 'third_topic', 'topicality': 'third_topicality'}),\n",
        "                              on = 'url', how = 'left'\n",
        "                            )\n",
        "\n",
        "    last_frame['accurancy_topic_score'] = (last_frame.main_topicality + last_frame.second_topicality + last_frame.third_topicality) / 3\n",
        "    last_frame['tuple_topic'] = last_frame[['main_topic', 'second_topic', 'third_topic']].apply(tuple, axis = 1)\n",
        "\n",
        "    return last_frame"
      ],
      "execution_count": null,
      "outputs": []
    },
    {
      "cell_type": "markdown",
      "metadata": {
        "id": "d05U8wSaBxdg"
      },
      "source": [
        "We run our processes and finally send all our synthesized data to bigquery."
      ]
    },
    {
      "cell_type": "code",
      "metadata": {
        "id": "21Gf5QCYWmW2"
      },
      "source": [
        "complete_extraction_colors, image_metadata_colors = image_extraction_colors_function(dataframe_dupli.url, image)"
      ],
      "execution_count": null,
      "outputs": []
    },
    {
      "cell_type": "code",
      "metadata": {
        "id": "2447_alWWaC-"
      },
      "source": [
        "complete_extraction_topics, image_metadata_topics = image_extraction_topics_function(dataframe_dupli.url, image)"
      ],
      "execution_count": null,
      "outputs": []
    },
    {
      "cell_type": "code",
      "metadata": {
        "id": "0_teRefkFn7g"
      },
      "source": [
        "complete_extraction_texts, image_metadata_text = image_extraction_texts_function(dataframe_dupli.url, image)"
      ],
      "execution_count": null,
      "outputs": []
    },
    {
      "cell_type": "code",
      "metadata": {
        "id": "o-ttk4nrFv-X"
      },
      "source": [
        "semi_last_frame = pd.merge(merge_frames(first_frame = dataframe_dupli[['url', 'source', 'ad_id']], dataframes = image_metadata_colors, model = 'colors'), \n",
        "                           merge_frames(first_frame = dataframe_dupli[['url', 'source', 'ad_id']], dataframes = image_metadata_topics, model = 'topics'), \n",
        "                           on = ['url', 'source', 'ad_id'],\n",
        "                           how = 'left')"
      ],
      "execution_count": null,
      "outputs": []
    },
    {
      "cell_type": "code",
      "metadata": {
        "id": "tNMoIwYj3uUh"
      },
      "source": [
        "final_frame = pd.merge(semi_last_frame, image_metadata_text, on = 'url', how = 'left')"
      ],
      "execution_count": null,
      "outputs": []
    },
    {
      "cell_type": "code",
      "metadata": {
        "id": "J74lN2SfHNnc"
      },
      "source": [
        "final_frame.to_gbq(destination_table = 'clients_table.main_categorical_values', \n",
        "                   project_id = 'omg-latam-prd-adh-datahouse-cl', \n",
        "                   if_exists = 'replace') "
      ],
      "execution_count": null,
      "outputs": []
    }
  ]
}