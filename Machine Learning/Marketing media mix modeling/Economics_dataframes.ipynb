{
  "nbformat": 4,
  "nbformat_minor": 0,
  "metadata": {
    "colab": {
      "name": "Economics dataframes.ipynb",
      "provenance": [],
      "authorship_tag": "ABX9TyOiRyXCXahkCZjcqhFRrcVk",
      "include_colab_link": true
    },
    "kernelspec": {
      "name": "python3",
      "display_name": "Python 3"
    },
    "language_info": {
      "name": "python"
    }
  },
  "cells": [
    {
      "cell_type": "markdown",
      "metadata": {
        "id": "view-in-github",
        "colab_type": "text"
      },
      "source": [
        "<a href=\"https://colab.research.google.com/github/carlangastr/marketing-science-projects/blob/main/Economics_dataframes.ipynb\" target=\"_parent\"><img src=\"https://colab.research.google.com/assets/colab-badge.svg\" alt=\"Open In Colab\"/></a>"
      ]
    },
    {
      "cell_type": "code",
      "source": [
        "!pip install pycountry wbdata"
      ],
      "metadata": {
        "id": "hZFAR8g--siS"
      },
      "execution_count": null,
      "outputs": []
    },
    {
      "cell_type": "code",
      "execution_count": null,
      "metadata": {
        "id": "d7yCVBF0o4nB"
      },
      "outputs": [],
      "source": [
        "import pycountry\n",
        "import wbdata"
      ]
    },
    {
      "cell_type": "code",
      "source": [
        "indicators = {'FP.CPI.TOTL.ZG': 'Inflation, consumer prices (annual %)',\n",
        "              'BM.GSR.FCTY.CD' : 'Primary income payments (BoP, current US$)',\n",
        "              'NY.GDP.PCAP.CD': 'GDP per capita (current US$)',\n",
        "               'SL.TLF.TOTL.IN':'Labor force, total'}\n",
        "#               'SL.ISV.IFRM.ZS':'Informal employment (% of total non-agricultural employment)',\n",
        "#               'SL.UEM.TOTL.ZS':'Unemployment, total (% of total labor force) (modeled ILO estimate)',\n",
        "#              'SL.TLF.TOTL.IN':'Labor force, total',\n",
        "#              'NY.GNP.PCAP.CD':'GNI per Capita',\n",
        "#              'NY.GDP.MKTP.CD': 'GDP (current US$)', 'NY.GDP.PCAP.CD': 'GDP per capita (current US$)',\n",
        "#             'SH.MED.CMHW.P3': 'Community health workers (per 1,000 people)',\n",
        "#              'SH.STA.SUIC.P5': 'Suicide mortality rate (per 100,000 population)',\n",
        "#              'SL.EMP.TOTL.SP.NE.ZS':'Employment to population ratio, 15+, total (%) (national estimate)',\n",
        "#              'VC.IHR.PSRC.P5':'Intentional homicides (per 100,000 people)',\n",
        "#              'SE.TER.ENRR':'School enrollment, tertiary (% gross)',\n",
        "#              'BM.GSR.FCTY.CD' : 'Primary income payments (BoP, current US$)'\n",
        "\n",
        "global_macroeconomics_data = wbdata.get_dataframe(indicators, country='EE', convert_date=True)"
      ],
      "metadata": {
        "id": "ZgTPC8w9o5kZ"
      },
      "execution_count": null,
      "outputs": []
    },
    {
      "cell_type": "code",
      "source": [
        "global_macroeconomics_data.reset_index(inplace = True)\n",
        "global_macroeconomics_data.fillna(0, inplace = True)"
      ],
      "metadata": {
        "id": "rU9BYeH7o6FG"
      },
      "execution_count": null,
      "outputs": []
    },
    {
      "cell_type": "code",
      "source": [
        "global_macroeconomics_data['avg salary'] = global_macroeconomics_data['Primary income payments (BoP, current US$)']/global_macroeconomics_data['Labor force, total']\n",
        "global_macroeconomics_data.to_csv('country_control_economics_data.csv')"
      ],
      "metadata": {
        "id": "aha65hE8-xnX"
      },
      "execution_count": null,
      "outputs": []
    },
    {
      "cell_type": "code",
      "source": [
        "#T43CCBF7LCCEDLDLWGZ33G29M\n",
        "\n",
        "import csv\n",
        "import codecs\n",
        "import urllib.request\n",
        "import urllib.error\n",
        "import sys\n",
        "import pandas as pd\n"
      ],
      "metadata": {
        "id": "RBIpPC3so9Kq"
      },
      "execution_count": null,
      "outputs": []
    },
    {
      "cell_type": "code",
      "source": [
        "def request_weather(key = None, location = None, date_range = ('2021-01-01','2022-01-01')):\n",
        "  \"\"\"\n",
        "\n",
        "  \"\"\"\n",
        "  if isinstance(key, type(None)):\n",
        "    error = 'Define your API Key'\n",
        "    raise TypeError(error)\n",
        "  \n",
        "  if isinstance(location, type(None)):\n",
        "    error = 'Define your Location'\n",
        "    raise TypeError(error)\n",
        "  \n",
        "  assert type(key) == str, \"API Key must be a string\"\n",
        "  assert type(location) == str, \"Location must be a string\"\n",
        "  assert type(date_range) == tuple, \"Date range must be a list\"\n",
        "\n",
        "  BaseURL = 'https://weather.visualcrossing.com/VisualCrossingWebServices/rest/services/timeline/'\n",
        "  ApiKey = key\n",
        "  Location = location\n",
        "  UnitGroup='us'\n",
        "  StartDate, EndDate = date_range\n",
        "  ContentType=\"csv\"\n",
        "  Include=\"days\"\n",
        "  \n",
        "  ApiQuery = BaseURL + Location\n",
        "\n",
        "  if (len(StartDate)):\n",
        "      ApiQuery+=\"/\"+StartDate\n",
        "      if (len(EndDate)):\n",
        "          ApiQuery+=\"/\"+EndDate\n",
        "\n",
        "  ApiQuery+=\"?\"\n",
        "\n",
        "  if (len(UnitGroup)):\n",
        "      ApiQuery+=\"&unitGroup=\"+UnitGroup\n",
        "\n",
        "  if (len(ContentType)):\n",
        "      ApiQuery+=\"&contentType=\"+ContentType\n",
        "\n",
        "  if (len(Include)):\n",
        "      ApiQuery+=\"&include=\"+Include\n",
        "\n",
        "  ApiQuery+=\"&key=\"+ApiKey\n",
        "\n",
        "  print(' - Running query URL: ', ApiQuery)\n",
        "\n",
        "  try: \n",
        "      CSVBytes = urllib.request.urlopen(ApiQuery)\n",
        "      weather = pd.read_csv(ApiQuery)\n",
        "  except Exception as error:\n",
        "      ErrorInfo= error.read().decode() \n",
        "      print('Error code: ', error.code, ErrorInfo)\n",
        "  else:\n",
        "    return weather\n",
        "\n",
        "dataframe = request_weather(key = '$$$$$$', location = 'Venezuela', date_range = ('2018-01-01','2020-01-01'))"
      ],
      "metadata": {
        "id": "YuwrbUfAV-Sj"
      },
      "execution_count": null,
      "outputs": []
    },
    {
      "cell_type": "code",
      "source": [
        "dataframe.to_csv('weather_.csv')"
      ],
      "metadata": {
        "id": "Ck0WJK8e8UMt"
      },
      "execution_count": null,
      "outputs": []
    }
  ]
}